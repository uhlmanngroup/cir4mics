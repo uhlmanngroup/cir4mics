{
 "cells": [
  {
   "cell_type": "markdown",
   "id": "35d504b5-7608-4815-b9ef-25717cf3c154",
   "metadata": {},
   "source": [
    "# Simulating structurally variable Nuclear Pore Complexes for SMLM \n",
    "This Jupyter-Lab contains all relevant information to simulate variable NPCs and export them as CSVs"
   ]
  },
  {
   "cell_type": "markdown",
   "id": "1bc71270-7746-4152-8212-d64c24008f4a",
   "metadata": {},
   "source": [
    "## General notes for not-yet programmers: \n",
    "This notebook is mainly written in python. It does load or export things that are not python, though: \n",
    "a config.yaml file contains standard parameters that are translated to python, and may be modified using python syntax. \n",
    "\"null\" in the .yaml file does not mean 0, but is equivalent to python \"None\": this value will be ignored in this framework. \n",
    "\n",
    "### Commenting/Uncommenting: \n",
    "A comment in python is, amongst other things, any content preceded by a \"#\". \"Uncomment\" means to remove the first \"#\"  "
   ]
  },
  {
   "cell_type": "markdown",
   "id": "5885f22c-3ace-489e-8242-103232a41efd",
   "metadata": {},
   "source": [
    "## Import relevant packages"
   ]
  },
  {
   "cell_type": "code",
   "execution_count": null,
   "id": "bd338276",
   "metadata": {},
   "outputs": [],
   "source": [
    "import exportCSV #exports data and metadata\n",
    "import NPC \n",
    "import NPC_plotting\n",
    "import Analyse_deformed\n",
    "import json\n",
    "import numpy as np\n",
    "import csv"
   ]
  },
  {
   "cell_type": "code",
   "execution_count": null,
   "id": "d50db5c2-381a-48a0-95f5-0683d8013def",
   "metadata": {
    "tags": []
   },
   "outputs": [],
   "source": [
    "%matplotlib widget "
   ]
  },
  {
   "cell_type": "markdown",
   "id": "0c82f59e-0091-469f-a5f0-db557842f06f",
   "metadata": {},
   "source": [
    "## Specify directory in which to export data\n",
    "Tip: It is good practice for the output directory to be distinct from the directory this jupyter-lab lives in \n",
    "Filepaths use backslashes \"\\\\\" on windows and forward slashes \"/\" on Mac or Linux "
   ]
  },
  {
   "cell_type": "code",
   "execution_count": null,
   "id": "3d4e7d6c-94b3-460d-80dc-7d5e2bf8b420",
   "metadata": {
    "tags": []
   },
   "outputs": [],
   "source": [
    "data_dir = './data/' # Directory for output files"
   ]
  },
  {
   "cell_type": "markdown",
   "id": "466ec926-6959-4058-83b1-8056fc29e9b9",
   "metadata": {},
   "source": [
    "## Select config file for simulation settings"
   ]
  },
  {
   "cell_type": "code",
   "execution_count": null,
   "id": "72415cb7",
   "metadata": {},
   "outputs": [],
   "source": [
    "config = 'config.yaml'"
   ]
  },
  {
   "cell_type": "markdown",
   "id": "4090a156-cd87-4ff2-86d4-1853321042a0",
   "metadata": {},
   "source": [
    "The config file is now transformed into a python dictionary called \"var\" (Short for variables).  \n",
    "Any entry in var can be edited and new entries can be added. var tells the simulator which properties the simulated NPCs should have.  \n",
    "Entries in var are accessed or modified via a dictionary lookup with the following general notation:  \n",
    "var[\"keyname\"] = modified_value.  \n",
    "Let's have a look at what's in var right now:  "
   ]
  },
  {
   "cell_type": "code",
   "execution_count": null,
   "id": "6d6dfe68-905d-428e-9ab9-e0fbdfe56dd6",
   "metadata": {
    "tags": []
   },
   "outputs": [],
   "source": [
    "var = NPC.getVars(config) # Transform config file into a python dictionary \n",
    "print(json.dumps(var, indent = 4)) # Print var in an easily readable format "
   ]
  },
  {
   "cell_type": "markdown",
   "id": "6c744cc2-520b-4aad-8b26-abef3898ca05",
   "metadata": {},
   "source": [
    "# 1. Adjust simulation parameters"
   ]
  },
  {
   "cell_type": "markdown",
   "id": "89c38e59-06aa-42ca-a28e-b930109e1f95",
   "metadata": {
    "tags": []
   },
   "source": [
    "## Number of NPCs to be simulated\n",
    "**NPCi** is the index out of NPC to be shown in any detail-plot or animation. The first NPC is indexed with 0, the last NPC with n-1.  \n",
    "**var[\"seed\"]** sets a random seed for reproducibility. Choose any number but 0. Simulated NPCs with the same parameters and same random seed will always look the same  \n",
    "set **var[\"seed\"] = False** to simulate different NPCs for every run"
   ]
  },
  {
   "cell_type": "code",
   "execution_count": null,
   "id": "c5c64d11-d627-4c53-aabd-05b7af9993e0",
   "metadata": {},
   "outputs": [],
   "source": [
    "var[\"n\"] = 49 # Number of NPCs to be simulated\n",
    "NPCi = 0 # index out of n of NPC to be shown in any detail-plot or animation. 0-indexed.  \n",
    "var[\"seed\"] = 51234 #seed for reproducibility. Any number but 0"
   ]
  },
  {
   "cell_type": "markdown",
   "id": "f73b53bd-9474-4193-bcee-9c9e3b21b328",
   "metadata": {
    "tags": []
   },
   "source": [
    "# Select one or more nups, their terminus, and an NPC model for simulation "
   ]
  },
  {
   "cell_type": "markdown",
   "id": "e573279d-d828-4501-a470-9d3df384547b",
   "metadata": {},
   "source": [
    "## List of all available models \n",
    "Click on the cell below and then click on the blue vertical bar to the left of the cell to show/hide the table of model info"
   ]
  },
  {
   "cell_type": "markdown",
   "id": "282edb70-bcc4-415e-9bc8-1438e39a0846",
   "metadata": {
    "tags": []
   },
   "source": [
    "| Model                       | Substructure   | Origin                           | Resolution* $\\overset{\\circ}{A}$ |   |\n",
    "|-----------------------------|----------------|----------------------------------|---------------------------|---|\n",
    "| 5A9Q<sup>1</sup>    | ORs            | HeLa, isolated NE                | 23                        |   |\n",
    "| 7PEQ<sup>2</sup>    | ORs            | DLD-1, native environment        | 35                        |   |\n",
    "| 5IJN<sup>3</sup>    | IR             | HeLa, isolated NE                | 21.4                      |   |\n",
    "| 5IJO<sup>3</sup>    | IR             | HeLa, isolated NE                | 21.4                      |   |\n",
    "| 7PER<sup>2</sup>    | IR             | DLD-1, native environment        | 35                        |   |\n",
    "| 7R5K<sup>4</sup> | Whole scaffold | HeLa, isolated NE                | 12                        |\n",
    "| 7R5J<sup>4</sup> | Whole scaffold | HeLa, HEK293, native environment | 50                        |\n",
    "\n",
    "*: As reported in PDB  \n",
    "1: von Appen, Alexander et al. “In situ structural analysis of the human nuclear pore complex.” Nature vol. 526,7571 (2015): 140-143. doi:10.1038/nature15381  \n",
    "2: Schuller, Anthony P et al. “The cellular environment shapes the nuclear pore complex architecture.” Nature vol. 598,7882 (2021): 667-671. doi:10.1038/s41586-021-03985-3  \n",
    "3: Kosinski, Jan et al. “Molecular architecture of the inner ring scaffold of the human nuclear pore complex.” Science (New York, N.Y.) vol. 352,6283 (2016): 363-5. doi:10.1126/science.aaf0643  \n",
    "4: Mosalaganti, Shyamal et al. “AI-based structure prediction empowers integrative structural analysis of human nuclear pores.” Science (New York, N.Y.) vol. 376,6598 (2022): eabm9506. doi:10.1126/science.abm9506  "
   ]
  },
  {
   "cell_type": "markdown",
   "id": "4adb39e4-d17a-416b-8032-5cebbc7348c4",
   "metadata": {},
   "source": [
    "## List of all selectable nups\n",
    "Click on the cell below and then click on the blue vertical bar to the left of the cell to show/hide full table of nup info"
   ]
  },
  {
   "cell_type": "markdown",
   "id": "5f7e0f48-7692-4177-a334-c1a0e90e3ef8",
   "metadata": {
    "jp-MarkdownHeadingCollapsed": true,
    "tags": []
   },
   "source": [
    "| Model                                            | Nup             | N-term. | C-term.                            | n in CR | NR | IR | bridge | total |\n",
    "|--------------------------------------------------|-----------------|---------|------------------------------------|---------|----|----|--------|-------|\n",
    "| 5A9Q                                             | Nup43            | 4      | 380                                | 2       | 2  |    |        | 4     |\n",
    "|                                                  | Nup160          | 41      | 1201                               | 2       | 2  |    |        | 4     |\n",
    "|                                                  | Nup37           | 9       | 326                                | 2       | 2  |    |        | 4     |\n",
    "|                                                  | Sec13           | 14      | 304                                | 2       | 2  |    |        | 4     |\n",
    "|                                                  | Seh1            | 1       | 322                                | 2       | 2  |    |        | 4     |\n",
    "|                                                  | Nup85           | 9       | 475                                | 2       | 2  |    |        | 4     |\n",
    "|                                                  | Nup155          | 20      | 730                                |         |    |    | 2      | 2     |\n",
    "|                                                  | Nup133          | 518     | 1156                               | 2       | 2  |    |        | 4     |\n",
    "|                                                  | Nup96           | 277     | 751                                | 2       | 2  |    |        | 4     |\n",
    "|                                                  | Nup107          | 150     | 924                                | 2       | 2  |    |        | 4     |\n",
    "| 7PEQ                                             | Nup133          | 518     | 1156                               | 2       | 2  |    |        | 4     |\n",
    "|                                                  | Nup107          | 150     | 924                                | 2       | 2  |    |        | 4     |\n",
    "|                                                  | Nup96           | 333     | 922                                | 2       | 2  |    |        | 4     |\n",
    "|                                                  | Sec13           | 14      | 304                                | 2       | 2  |    |        | 4     |\n",
    "|                                                  | Seh1            | 5       | 320                                | 2       | 2  |    |        | 4     |\n",
    "|                                                  | Nup85           | 20      | 651                                | 2       | 2  |    |        | 4     |\n",
    "|                                                  | Nup43           | 4       | 380                                | 2       | 2  |    |        | 4     |\n",
    "|                                                  | Nup160          | 78      | 1195                               | 2       | 2  |    |        | 4     |\n",
    "|                                                  | Nup37           | 18      | 324                                | 2       | 2  |    |        | 4     |\n",
    "| 7PER                                             | Nup205          | 9       | 1692                               |         |    | 4  |        | 4     |\n",
    "|                                                  | Nup155          | 20      | 1375                               |         |    | 4  |        | 4     |\n",
    "|                                                  | Nup93           | 173     | 815                                |         |    | 4  |        | 4     |\n",
    "|                                                  | Nup54           | 128     | 493                                |         |    | 4  |        | 4     |\n",
    "|                                                  | Nup58<sup>1</sup>| 248    | 418                                |         |    | 4  |        | 4     |\n",
    "|                                                  | Nup62           | 334     | 502                                |         |    | 4  |        | 4     |\n",
    "| 5IJN                                             | Nup205          | 9       | 1692                               |         |    | 4  |        | 4     |\n",
    "|                                                  | Nup54           | 128     | 493                                |         |    | 4  |        | 4     |\n",
    "|                                                  | Nup58           | 248     | 418                                |         |    | 4  |        | 4     |\n",
    "|                                                  | Nup155          | 20      |  2 x 863                           |         |    | 4  |     2  | 6     |\n",
    "|                                                  |                 |         | 4 x 1375                           |         |    |    |        |       | \n",
    "|                                                  | Nup93           | 1       | 815                                |         |    | 4  |        | 4     |\n",
    "|                                                  | Nup62           | 334     | 502                                |         |    | 4  |        | 4     |\n",
    "| 5IJO                                             | Nup54           | 128     | 493                                |         |    | 4  |        | 4     |\n",
    "|                                                  | Nup188          | 1       | 1564                               |         |    | 2  |        | 2     |\n",
    "|                                                  | Nup205          | 9       | 1692                               |         |    | 2  |        | 2     |\n",
    "|                                                  | Nup155          | 20      |  2 x 863                           |         |    | 4  |     2  | 6     |\n",
    "|                                                  |                 |         | 4 x 1375                           |         |    |    |        |       | \n",
    "|                                                  | Nup93           | 1       | 815                                |         |    | 4  |        | 4     |\n",
    "|                                                  | Nup58<sup>1</sup>  | 248     | 418                                |         |    | 4  |        | 4     |\n",
    "|                                                  | Nup62           | 334     | 502                                |         |    | 4  |        | 4     |\n",
    "| 7R5J                                             |\n",
    "|                                                  | Nup210<sup>2</sup> | 2       | 1832                               |         |    | 8  |        | 8     |\n",
    "|                                                  | ALADIN          | 2       | 486                                |         |    | 2  |        | 2     |\n",
    "|                                                  | Nup93           | 2       | 819                                |         |    | 4  |        | 4     |\n",
    "|                                                  | Nup93           | 94      | 819                                | 2       | 1  |    |        | 3     |\n",
    "|                                                  | Nup188          | 2       | 1749                               |         |    | 2  |        | 2     |\n",
    "|                                                  | Nup205          | 2       | 2012                               | 2       | 1  | 2  |        | 5     |\n",
    "|                                                  | Nup155          | 10      | 1391                               |         |    | 4  | 2      | 6     |\n",
    "|                                                  | NDL1            | 2       | 674                                |         |    | 2  |        | 2     |\n",
    "|                                                  | Nup35           | 86      | 326                                |         |    | 4  |        | 4     |\n",
    "|                                                  | Nup54           | 111     | 493                                |         |    | 4  |        | 4     |\n",
    "|                                                  | Nup58<sup>1</sup> | 246     | 418                                |         |    | 4  |        | 4     |\n",
    "|                                                  | Nup62           | 332     | 502                                | 1       |    | 4  |        | 5     |\n",
    "|                                                  | Nup133          | 71      | 1156                               | 2       | 2  |    |        | 4     |\n",
    "|                                                  | Nup107          | 144     | 925                                | 2       | 2  |    |        | 4     |\n",
    "|                                                  | Nup96           | 232     | 937                                | 2       | 2  |    |        | 4     |\n",
    "|                                                  | SEC13           | 2       | 302                                | 2       | 2  |    |        | 4     |\n",
    "|                                                  | SEH1            | 2       | 324                                | 2       | 2  |    |        | 4     |\n",
    "|                                                  | Nup85           | 2       | 656                                | 2       | 2  |    |        | 4     |\n",
    "|                                                  | Nup43           | 2       | 380                                | 2       | 2  |    |        | 4     |\n",
    "|                                                  | Nup160          | 38      | 1436                               | 2       | 2  |    |        | 4     |\n",
    "|                                                  | Nup37           | 5       | 326                                | 2       | 2  |    |        | 4     |\n",
    "|                                                  | ELYS            | 2       | 1005                               |         | 2  |    |        | 2     |\n",
    "|                                                  | Nup98           | 731     | 880                                |         | 1  |    |        | 1     |\n",
    "|                                                  | Nup98           | 597     | 615                                | 2       |    | 4  |        | 6     |\n",
    "|                                                  | Nup214          | 700     | 972                                | 1       |    |    |        | 1     |\n",
    "|                                                  | Nup88           | 7       | 741                                | 1       |    |    |        | 1     |\n",
    "\n",
    "1: Reported as p58/p45  \n",
    "2: Primarily in Nuclear Envelope lumen\n",
    "\n"
   ]
  },
  {
   "cell_type": "markdown",
   "id": "b6b02ee2-7581-4605-9b1c-a1849fc82d1b",
   "metadata": {},
   "source": [
    "You can write one nup **var[\"nup\"]**, e.g. nup107, either as (\"nup107\",) or as \"nup107\" --- capitalisation doesn't matter.   \n",
    "protein termini are listed equivalently.  \n",
    "Multiple nups must be listed as a tuple, for instance (\"nup107\", \"nup96\"), and protein termini must have the same order as their corresponding Nup.  \n",
    "**var[\"nup\"]** = (\"nup107\", \"nup96\") and  \n",
    "**var[\"term\"]** = (\"C\", \"N\")  \n",
    "**var[\"model\"]**  = \"7r5j\" for instance means:   \n",
    "\"nup107-C, and N-nup96 as presented in PDB model '7r5j' are selected as virtual sites to attach a label, for instance a fluorophore\"  \n",
    "**var[\"rel\"]**: relevant for multicolour simulations.  \n",
    "If true, it selects the first listed nup as a reference to make it comparable to single-channel simulations of this nup. \n",
    "default is **false**  "
   ]
  },
  {
   "cell_type": "code",
   "execution_count": null,
   "id": "817104cb",
   "metadata": {
    "tags": []
   },
   "outputs": [],
   "source": [
    "var[\"nup\"] = (\"nup107\",)\n",
    "var[\"term\"] = (\"C\",)\n",
    "var[\"model\"] = \"7r5J\""
   ]
  },
  {
   "cell_type": "markdown",
   "id": "0a41c160-5645-417f-af21-4fb0f88d3a5e",
   "metadata": {
    "tags": []
   },
   "source": [
    "# 2. Simulate variability \n",
    "## 2.1. Irregular variability \n",
    "**mag**: magnitude of deforming forces in x-y direction; the higher, the more deformed. recommended 0 - 20  \n",
    "**zmag**: magnitude of deforming offsets in z direction; the higher, the more deformed. default mag/2. "
   ]
  },
  {
   "cell_type": "code",
   "execution_count": null,
   "id": "0e83fd09-9672-4915-9243-9aea7c984ccd",
   "metadata": {},
   "outputs": [],
   "source": [
    "# # Variability parameters\n",
    "var[\"mag\"] = 20 # Magnitude of irregular variability. 0: No deformation, 15: Strong deformation\n",
    "var[\"zmag\"] = var[\"mag\"]/2 # magnitude of offset in z. Not computed via springs "
   ]
  },
  {
   "cell_type": "markdown",
   "id": "61153574-2a9f-496a-ac7e-44dff976c1dc",
   "metadata": {
    "tags": []
   },
   "source": [
    "### Irregular variability - advanced settings\n",
    "Following parameters can be modified to change behaviour of deformations, however this is not recommended.  \n",
    "**sigmamult**: controls correlation of forces, higher values result in more correlated forces, thus smoother deformations. default = 0.5.  \n",
    "**nConnect**: Adjusts number of springs. Default: 2, i.e each node is connected to the two nearest neighbours in clockwise direction, and to the 2 nearest neighbours in anticlockwise direction.  \n",
    "Uncomment the cell below to try this out. "
   ]
  },
  {
   "cell_type": "code",
   "execution_count": null,
   "id": "95523242-5c1d-43d4-9bb9-f5b38ded6256",
   "metadata": {
    "tags": []
   },
   "outputs": [],
   "source": [
    "#var[\"sigmamult\"] = 0.5\n",
    "#var[\"nConnect\"] = 2\n",
    "#var[\"tlast\"] = 20"
   ]
  },
  {
   "cell_type": "markdown",
   "id": "cf69862c-330a-45df-b88b-ff0bf19055a4",
   "metadata": {
    "tags": []
   },
   "source": [
    "## 2.2. Geometric variability\n",
    "Keys are indicated in bold lettering. Variables can for instance be modified via var[\"rnew\"] = new_value. \n",
    "### Radius variability  \n",
    "- **rnew** new mean radius\n",
    "- **rsigma** standard deviation of radius  \n",
    "### Variability of twist angle between Nucleoplasmic and Cytoplasmic side  \n",
    "- **thetanew** new twist angle\n",
    "- **thetasigma** standard deviation of twist angle\n",
    "### Variability of distance between Nucleoplasmic and Cyotplasmic side  \n",
    "- **dnew** new mean distance\n",
    "- **dsigma** standard deviation of distance \n",
    "### Variability of ellipticity\n",
    "- **elliptnew**  new mean input ellipticity as ratio of minor to major axis\n",
    "- **elliptsigma**  standard deviation of ellipticity\n",
    "\n",
    "### Others\n",
    "**symmet**: Rotational symmetry of the NPC, default **8**  \n",
    "**kappa**: Random independent tilt of Nucleoplasmic and Cytoplasmic side. Default **null** means no tilt.  \n",
    "kappa=0 is random uniform tilt. The higher kappa, the less tilt from the default position is applied.  \n",
    "**shiftsigma**: x and y offset of either Nucleoplasmic and Cytoplasmic side are independently sampled from a normal distribition with sigma = shiftsigma [nm]\n"
   ]
  },
  {
   "cell_type": "markdown",
   "id": "9e86fe42-5f4c-4722-9d59-cc18e0e271d4",
   "metadata": {},
   "source": [
    "## Modify geometric variability \n",
    "EXAMPLE: Generate NPCs with radius varying by a standard deviation of 5 nm that are also have a slight tilt in their nucleoplasmic and cytoplasmic side "
   ]
  },
  {
   "cell_type": "code",
   "execution_count": null,
   "id": "19459345-e768-4973-9113-9d15c836c787",
   "metadata": {
    "tags": []
   },
   "outputs": [],
   "source": [
    "var[\"rsigma\"] = 5\n",
    "var[\"kappa\"] = 40"
   ]
  },
  {
   "cell_type": "markdown",
   "id": "b725c88b-973a-4c94-978a-e3f1d3a2adcd",
   "metadata": {
    "tags": []
   },
   "source": [
    "# 3. Run simulations\n",
    "NPC.getNPCs(var) simulates NPCs that vary as described in var.  \n",
    "The output additionally contains metadata.  \n",
    "\n",
    "WARNING: Tilts (see var[\"kappa\"]) and shifts (see var[\"shiftsigma\"]) of the Nucleoplasmic and Cytoplasmic side are not yet applied to data contained in NPCs.  \n",
    "This will be done in a later step.  \n",
    "\n",
    "## A note on time\n",
    "Irregular shapes are computed by applying forces to a damped spring system, which will thus deform to a new equilibrium shape.  \n",
    "NPCs therefore contains temporal information stored as timesteps: The first timestep is the model before deformation,  \n",
    "the last step is the model with a new equilibrium shape. As super-resolution microscopy techniques typically lack the temporal resolution   \n",
    "to access NPC dynamics, we are only interested in the model at the last timestep.  \n",
    "The last timestep **var[\"tlast\"]** is 20 by default, sufficient to accomodate deformations with typical settings. \n",
    "Higher values might increase compute time, lower values might not offer enough time for the model to equilibrate.  \n",
    "However if a large number of NPCs (n >> 5000) are computed at low deformation magnitudes (var[\"mag\"] < 5), it might be beneficial to reduce **var[\"tlast\"]**. \n",
    "Further below we introduce visualisation functions to check whether NPCs were able to equilibrate. "
   ]
  },
  {
   "cell_type": "code",
   "execution_count": null,
   "id": "41dd4e8f-01dd-4f61-837b-34c2a0add149",
   "metadata": {
    "tags": []
   },
   "outputs": [],
   "source": [
    "#var[\"tlast\"] = 20\n",
    "NPCs = NPC.getNPCs(var) # Dictionary of all simulated NPCs"
   ]
  },
  {
   "cell_type": "code",
   "execution_count": null,
   "id": "1c20c2a0-4b43-4ada-abfa-4460274e1ed5",
   "metadata": {
    "tags": []
   },
   "outputs": [],
   "source": [
    "#print(NPCs.keys()) "
   ]
  },
  {
   "cell_type": "markdown",
   "id": "7bc24635-d78d-46d2-8e79-7a3f731365d9",
   "metadata": {},
   "source": [
    "## Extract coordinates from variable NPCs. \n",
    "NPC.getNPCcoords() extracts coordinates of the final deformed state of the model. var[\"kappa\"] and var[\"shiftsigma\"] is applied here if applicable. \n",
    "rows of NPCscoords are x, y, z, nup index, NPC index.  \n",
    "nup index specifies the nup: Always 0 in single-channel simulations  \n",
    "NPC index specifies the NPC out of n"
   ]
  },
  {
   "cell_type": "code",
   "execution_count": null,
   "id": "a9138cc1-cc24-4afa-b02c-f31207e23c88",
   "metadata": {
    "tags": []
   },
   "outputs": [],
   "source": [
    "NPCscoords = NPC.getNPCcoords(NPCs, var) "
   ]
  },
  {
   "cell_type": "code",
   "execution_count": null,
   "id": "696f3679-adae-41e7-bdb6-7eb7545a8918",
   "metadata": {
    "tags": []
   },
   "outputs": [],
   "source": [
    "print(NPCscoords)"
   ]
  },
  {
   "cell_type": "markdown",
   "id": "d75e9a96-595a-4c5c-a7b6-a890682db54e",
   "metadata": {
    "tags": []
   },
   "source": [
    "## Arrange NPCs on a grid\n",
    "NPCscoords contains relative coordinates, i.e. NPCs are more or less 0-centred. They would overlap if plotted. \n",
    "OffsetNPCs() arranges these NPCs on a grid using a given offset"
   ]
  },
  {
   "cell_type": "code",
   "execution_count": null,
   "id": "4653b6d2-8704-4a40-af04-4dbaff550d26",
   "metadata": {
    "tags": []
   },
   "outputs": [],
   "source": [
    "offset = 1.5 * np.mean(NPCs[\"rexp\"]) # set offset to 1.5 * the expected NPC radius \n",
    "OffsetNPCs = NPC_plotting.OffsetNPCs(NPCscoords, offset)"
   ]
  },
  {
   "cell_type": "markdown",
   "id": "07780c0a-12a5-471a-819e-98780d6c38b0",
   "metadata": {
    "tags": []
   },
   "source": [
    "# 4. Visualise NPCs\n",
    "## Overview of all deformed NPCs"
   ]
  },
  {
   "cell_type": "code",
   "execution_count": null,
   "id": "f933f13c-2e4d-4b42-9da4-4627f6b678fe",
   "metadata": {},
   "outputs": [],
   "source": [
    "NPC_plotting.plotOverview(OffsetNPCs, NPCs, var, width = 9)"
   ]
  },
  {
   "cell_type": "markdown",
   "id": "eb3774af-82db-4b56-b331-f52cb8ccb98d",
   "metadata": {
    "tags": []
   },
   "source": [
    "## Plot position of each nup over time for a given NPC\n",
    "This allows to see whether all proteins of an NPC with index NPCi have reached a new equilibrium"
   ]
  },
  {
   "cell_type": "code",
   "execution_count": null,
   "id": "970c2a76-e979-4f38-b455-e503d4831a6e",
   "metadata": {},
   "outputs": [],
   "source": [
    "NPC_plotting.positionVStime(NPCs, index = NPCi, legend = True)"
   ]
  },
  {
   "cell_type": "markdown",
   "id": "c4e784b5-a7cd-4c8b-bb2f-e727a40135e3",
   "metadata": {},
   "source": [
    "## Explore a specific NPC in greater detail \n",
    "Explore a specific NPC with index NPCi in greater detail, it can be plotted as a 2D or 3D plot.\n",
    "3D plots are interactive - click and drag to view it from all angles. "
   ]
  },
  {
   "cell_type": "code",
   "execution_count": null,
   "id": "bb52e4f2-5611-466c-978d-24691c973ea9",
   "metadata": {},
   "outputs": [],
   "source": [
    "# Tip: replace NPCi with any integer between 0 and n-1 to view a different NPC\n",
    "NPC_plotting.plotDetail(NPCscoords, NPCs, var, index = NPCi, width = 5, mode = \"3D\")"
   ]
  },
  {
   "cell_type": "markdown",
   "id": "05621fdd-17f0-4f96-8a5f-87ff0769dd5f",
   "metadata": {},
   "source": [
    "# Generate an animation of deformation \n",
    "Replace **name = None** with name = \"examplename\" save the animation file in the data directory.  \n",
    "The name needs to be surrounded by quotation marks. Avoid special characters or whitespaces. \n",
    "## View deformation of an NPC with index NPCi in detail "
   ]
  },
  {
   "cell_type": "code",
   "execution_count": null,
   "id": "62578fe3-5b9f-45f6-b9ef-9a0c29d4d741",
   "metadata": {},
   "outputs": [],
   "source": [
    "#name = None #\n",
    "#NPC_plotting.AnimateDetail(NPCs, var, index = NPCi, width = 5, directory = data_dir, name = name, ext = \".gif\")"
   ]
  },
  {
   "cell_type": "markdown",
   "id": "bd44e2cf-7439-40b0-b0e6-fa20c43b6446",
   "metadata": {},
   "source": [
    "## View deformations of all NPCs \n",
    "This is a great way to quickly check all NPCs have reached a new equlibrium. \n",
    "If this is not the case (unlikely for most standard parameters), the last timestep var[\"tlast\"] can be adjusted before computing deformations (see further above). "
   ]
  },
  {
   "cell_type": "code",
   "execution_count": null,
   "id": "da7ced8f-a168-46d9-8e55-1bd745da7877",
   "metadata": {},
   "outputs": [],
   "source": [
    "#name = None # see above\n",
    "#NPC_plotting.AnimateOverview(NPCs, OffsetNPCs, var, width = 6, directory = data_dir, name = name, ext = \".gif\")"
   ]
  },
  {
   "cell_type": "markdown",
   "id": "db96fecb-1a09-4fe0-a44e-cf5498885ef5",
   "metadata": {},
   "source": [
    "# 4. Analyse generated NPCs \n",
    "Features will be explained in more details further down, where they are saved in a CSV file.  \n",
    "Variable names starting with \"ellipse\" include features derived from fitting 3D ellipses to NPCs or parts thereof.  \n",
    "Variable names starting with \"circle\" include features derived from fitting 3D circles to NPCs or parts thereof.   \n",
    "Variable names that end with \"allrings\" mean that the circle or ellipses were fitted to each individual ring of the NPC. (See publication for definition of ring).  \n",
    "Variable names that end with \"CRNR\" mean that circles or ellipses were fitted to each subcomplex,  \n",
    "i.e. the cytoplasmic ring, nucleoplasmic ring, the bridge between outer ring and inner ring, and/or the inner ring.  "
   ]
  },
  {
   "cell_type": "code",
   "execution_count": null,
   "id": "cf5ac1a6-2578-4a6a-bd4a-42edd4371822",
   "metadata": {
    "tags": []
   },
   "outputs": [],
   "source": [
    "ellipse_allrings = Analyse_deformed.Ellipses(NPCscoords, membership = NPCs[\"z_i_all\"])\n",
    "ellipse_CRNR = Analyse_deformed.Ellipses(NPCscoords, membership = NPCs[\"ringmemall\"])\n",
    "\n",
    "circle_allrings = Analyse_deformed.Circles(NPCscoords, membership = NPCs[\"z_i_all\"])\n",
    "circle_CRNR = Analyse_deformed.Circles(NPCscoords, membership = NPCs[\"ringmemall\"])    "
   ]
  },
  {
   "cell_type": "markdown",
   "id": "03a315a2-ce85-440d-aee2-2a3135b28995",
   "metadata": {},
   "source": [
    "## Compute further features \n",
    "featuresAll: Per NPC: radius, residual sum of squares, residual sum of squares on circle-plane, residual sum of squares to circle-plane  \n",
    "featuresElAll: Per NPC: Major axis ellipse, minor axis ellipse, minor/major axis ratio, rotational angle [rad], residual sum of squared distances of coordinates to the ellipse, residual sum of squared distances of coordinates projected onto the ellipse-plane from the ellipse, residual sum of squared distances of coordinates to the ellipse-plane.  \n",
    "features3DAll: Each alternating by subcomplex: Centre (x,y,z), tilt-vector (x,y,z)/"
   ]
  },
  {
   "cell_type": "code",
   "execution_count": null,
   "id": "afb6533d-4971-46e4-8b47-c45403f7f84a",
   "metadata": {
    "tags": []
   },
   "outputs": [],
   "source": [
    "featuresAll, _, _ = Analyse_deformed.meanfeaturesC(NPCs, var, circle_allrings) # Circle features\n",
    "featuresElAll, _, _ = Analyse_deformed.meanfeaturesE(NPCs, var, ellipse_allrings)\n",
    "_, _, _, _, featuresel3DAll = exportCSV.col_features(NPCs, circle_CRNR, ellipse_CRNR)\n",
    "\n",
    "# featuresAll: r, sqsum, residual, zsqsum of circle per NPC \n",
    "#featuresel3DAll: centre subcomplex, 1 centre subcomplex 2, centre subcomplex n, tilt subcomplex 1, tilt subcomplex 2 ..."
   ]
  },
  {
   "cell_type": "markdown",
   "id": "5b89ceed-87b4-498d-8255-b732200c0661",
   "metadata": {},
   "source": [
    "## Histogram of features \n",
    "radius [nm]: Radius per NPC, determined by fitting circles to each NPC ring and averaging their radii  \n",
    "minor/major ellip: Minor/major axis ratio per NPCs, determined by fitting an ellipse to each ring and averaging their values  \n",
    "RSS ellipt. [nm]: Averaged per NPC: Residual sum of squared distances from ring-coordinates to ring-wise fitted ellipses   \n",
    "tilt-dif. ellipt [rad]: Per NPC: tilt angle between Nucleoplasmic and Cytoplasmic side  \n",
    "shift ellip [nm]: Distance of centres of Nucleoplasmic and cytoplasmic side in x-y dirction. Centres are determined by fitting an ellipse to each sub-complex  \n",
    "Dist ellip [nm]: Distance of centres of Nucleoplasmic and cytoplasmic side in z dirction. Centres are determined by fitting an ellipse to each sub-complex  "
   ]
  },
  {
   "cell_type": "code",
   "execution_count": null,
   "id": "6d6c2ba6-35f2-4ed0-9271-cfe9df9ff0fa",
   "metadata": {
    "tags": []
   },
   "outputs": [],
   "source": [
    "NPC_plotting.gethistdata(var, NPCs, featuresAll, featuresElAll, featuresel3DAll, width = 5, bins = None)"
   ]
  },
  {
   "cell_type": "markdown",
   "id": "2e77fcbb-bbe6-4b29-86d4-2fa933b9f124",
   "metadata": {},
   "source": [
    "# 5. Export data"
   ]
  },
  {
   "cell_type": "markdown",
   "id": "1f4081ad-7268-49d8-9fe7-4c61994f501d",
   "metadata": {},
   "source": [
    "## Export NPC coordinates and simulation metadata\n",
    "Note that here, non-offset NPCs are exported, assuming that any downstream simulation software will arrange NPCs on a grid. \n",
    "Offset NPCs can be exported instead, should this not be the case. "
   ]
  },
  {
   "cell_type": "code",
   "execution_count": null,
   "id": "424e16d2-7a09-4800-ae3e-9e17bf185648",
   "metadata": {},
   "outputs": [],
   "source": [
    "nameDict, name = exportCSV.names(var)\n",
    "makecsv = exportCSV.MakeCSV(var, NPCs, NPCscoords, nameDict, name, data_dir) "
   ]
  },
  {
   "cell_type": "code",
   "execution_count": null,
   "id": "265c3130-27eb-49dc-ac3f-5e126242d236",
   "metadata": {},
   "outputs": [],
   "source": [
    "exportCSV.previewCSV(makecsv.csvpath, lines = 5)"
   ]
  },
  {
   "cell_type": "markdown",
   "id": "7dfe7877-bf4b-42d5-a111-7d5ff9efc4ce",
   "metadata": {},
   "source": [
    "## Export NPC features"
   ]
  },
  {
   "cell_type": "markdown",
   "id": "60e4899f-c129-4654-b9c0-e6d4751daaee",
   "metadata": {
    "tags": []
   },
   "source": [
    "### Features of whole NPCs"
   ]
  },
  {
   "cell_type": "code",
   "execution_count": null,
   "id": "16e0718f-07c1-49e3-94b0-bb6ffb00894a",
   "metadata": {},
   "outputs": [],
   "source": [
    "featurescsv = exportCSV.featuresCSV(NPCs, var, name, circle_allrings, ellipse_allrings, data_dir)"
   ]
  },
  {
   "cell_type": "markdown",
   "id": "560403f8-abbd-46e8-bb77-ca623b45066b",
   "metadata": {
    "tags": []
   },
   "source": [
    "### Columns: \n",
    "**NPC**: index per NPC  \n",
    "**c_r**: average radius per NPC  \n",
    "**c_sse**:  Averaged per NPC: Residual sum of squared distances from ring-coordinates to ring-wise fitted circles   \n",
    "**c_sselat**: Averaged per NPC: Residual sum of squared distances on the circle-plane from ring-coordinates to ring-wise fitted circles   \n",
    "**c_sseax**: Averaged per NPC: Residual sum of squared distances from ring-coordinates to a ring-wise fitted circle-plane  \n",
    "**c_x0**, **c_y0**, **c_z0**: Centre of NPC: centre-coordinates obtained by averaging centres of circles fitted to each NPC ring  \n",
    "**c_tilt_x**, **c_tilt_y**, **c_tilt_z**: Average tilt of NPC: obtained by averaging the tilt of the circle-plane fitted to each NPC ring  \n",
    "\n",
    "The following values are obtained by fitting an ellipse to each ring of the NPC and averaging ellipse features for each NPC  \n",
    "**el_major**: Average major axis per NPC  \n",
    "**el_minor**: Average minor axis per NPC  \n",
    "**el_q**: ratio minor/major axis, average per NPC  \n",
    "**el_rot**: Planar rotation of the fitted ellipses averaged by NPC [rad]  \n",
    "**el_ssum**: Residual sum of squared distances from ring-coordinates to ring-wise fitted ellipses  \n",
    "**el_ssumXY**: Averaged per NPC: Residual sum of squared distances on the ellipse-plane from ring-coordinates to ring-wise fitted ellipses  \n",
    "**el_ssumZ**: Residual sum of squared distances from ring-coordinates to a ring-wise fitted ellipse-plane   \n",
    "**ce_x0**, **ce_y0**, **cez0**: Centre of NPC: centre-coordinates obtained by averaging centres of ellipses fitted to each NPC ring  \n",
    "**e_tilt_x**, **e_tilt_y**, **e_tilt_z**: Average tilt of NPC: obtained by averaging the tilt of the ellipse-plane fitted to each NPC ring  \n"
   ]
  },
  {
   "cell_type": "code",
   "execution_count": null,
   "id": "f4fa8b30-4503-4eae-af91-d1b3cf3be80e",
   "metadata": {
    "tags": []
   },
   "outputs": [],
   "source": [
    "exportCSV.previewCSV(featurescsv.csvpath, lines = 2)"
   ]
  },
  {
   "cell_type": "markdown",
   "id": "f167ce66-e8fe-4326-99bf-5c3366bdd6d6",
   "metadata": {},
   "source": [
    "### Features per NPC ring"
   ]
  },
  {
   "cell_type": "code",
   "execution_count": null,
   "id": "379ffdb5-0bc0-4366-8015-f59790611dcc",
   "metadata": {
    "tags": []
   },
   "outputs": [],
   "source": [
    "featurescsvRing = exportCSV.featuresCSV_rings(NPCs, var, name, data_dir, circle_allrings, ellipse_allrings)"
   ]
  },
  {
   "cell_type": "markdown",
   "id": "01fec7b7-e8f4-4124-8890-f4cc445c3e99",
   "metadata": {},
   "source": [
    "NPC: index per NPC  \n",
    "\n",
    "Example: n107_56nm indicates that features are determined for a Nup107 ring with z-position 56nm. Other Nups and rings are annotated in the same way   \n",
    "\n",
    "**r_n107_56nm**: radius of a circle fitted to Nup107 ring at z-position 56.   \n",
    "**el_minor_n107_56nm**, **el_major_n107_56nm**, **el_q_n107_56nm**: Minor axis, major axis, and their ratio of a fitted ellipse   \n",
    "\n",
    "**SSE_n107_56nm**: Residual sum of squared distances for a fitted circle  \n",
    "**el_ssum_n107_56nm**: Equivalent from fitting an ellipse  \n",
    "\n",
    "**SSE_l_n107_56nm**: Residual sum of squared distances of coordinates projected onto the circle-plane to a fitted circle  \n",
    "**el_ssumXY_n107_56nm**: Equivalent from fitting an ellipse   \n",
    "\n",
    "**SSE_a_n107_56nm**: Residual sum of squared distances of coordinates to the fitted circle plane  \n",
    "**el_ssumZ_n107_56nm**: Equivalent from fitting an ellipse   \n",
    "\n",
    "**Cx_n107_56nm**, **Cy_n107_56nm**, **Cz_n107_56nm**: Centre determined by fitting a circle   \n",
    "**eCx_n107_56nm**, **eCy_n107_56nm**, **eCz_n107_56nm**: Equivalent from fitting an ellipse  \n",
    "\n",
    "**Tx_n107_56nm**, **Ty_n107_56nm**, **Tz_n107_56nm**: Tilt determined by fitting a circle  \n",
    "**eTx_n107_56nm**', **eTy_n107_56nm**, **eTz_n107_56nm**: Equivalent from fitting an ellipse   \n",
    "\n",
    "**el_rot_n107_56nm**: Rotation of fitted ellipse "
   ]
  },
  {
   "cell_type": "code",
   "execution_count": null,
   "id": "abd91754-6875-48a9-90ff-d2838d058089",
   "metadata": {
    "tags": []
   },
   "outputs": [],
   "source": [
    "exportCSV.previewCSV(featurescsvRing.csvpath, lines = 0)"
   ]
  },
  {
   "cell_type": "markdown",
   "id": "30011170-2783-430e-b1f5-a1ce10f47676",
   "metadata": {},
   "source": [
    "### Features per subcomplex"
   ]
  },
  {
   "cell_type": "code",
   "execution_count": null,
   "id": "fa769976-45d8-4694-84e7-da88b9dbc940",
   "metadata": {
    "tags": []
   },
   "outputs": [],
   "source": [
    "featuresCSVsubcomplex = exportCSV.featuresCSV_subcomplex(NPCs, circle_CRNR, ellipse_CRNR, name, data_dir)"
   ]
  },
  {
   "cell_type": "markdown",
   "id": "6cc62ff5-5a35-4407-a946-d58a2a3b0154",
   "metadata": {},
   "source": [
    "**NPC**: index per NPC  \n",
    "Example: CR stands for cytoplasmic ring. NR stands for Nucleoplasmic ring  \n",
    "\n",
    "**r_CR**: Radius determined by fitting a circle to the CR  \n",
    "**el_minor_CR**, **el_major_CR**, **el_q_CR**:  Minor axis, major axis, and their ratio determined by fitting an ellipse  \n",
    "\n",
    "**SSE_CR**: Residual sum of squared distances for a fitted circle  \n",
    "**el_ssum_CR**: Equivalent from fitting an ellipse  \n",
    "\n",
    "**SSE_l_CR**: Residual sum of squared distances of coordinates projected onto the circle-plane to a fitted circle  \n",
    "**el_ssumXY_CR**: Equivalent from fitting an ellipse  \n",
    "\n",
    "**SSE_a_CR**: Residual sum of squared distances of coordinates to the fitted circle plane  \n",
    "**el_ssumZ_CR**: Equivalent from fitting an ellipse  \n",
    "\n",
    "**Cx_CR**, **Cy_CR**, **Cz_CR**: centre coordinates of a fitted circle  \n",
    "**el_Cx_CR**, **el_Cy_CR**, **el_Cz_CR**: centre coordinates of a fitted ellipse  \n",
    "\n",
    "**Tx_CR**, **Ty_CR**, **Tz_CR**: tilt determined by fitting a circle  \n",
    "**el_ Tx_CR**, **el_Ty_CR**, **el_ Tz_CR**:  tilt determined by fitting an ellipse   "
   ]
  },
  {
   "cell_type": "code",
   "execution_count": null,
   "id": "7af582e7-49c1-4615-af08-44804b554e2a",
   "metadata": {
    "tags": []
   },
   "outputs": [],
   "source": [
    "exportCSV.previewCSV(featuresCSVsubcomplex.csvpath, lines = 1)"
   ]
  },
  {
   "cell_type": "code",
   "execution_count": null,
   "id": "c1d001f6-7ec5-4e06-a899-380dadf46310",
   "metadata": {},
   "outputs": [],
   "source": []
  }
 ],
 "metadata": {
  "kernelspec": {
   "display_name": "Python 3 (ipykernel)",
   "language": "python",
   "name": "python3"
  },
  "language_info": {
   "codemirror_mode": {
    "name": "ipython",
    "version": 3
   },
   "file_extension": ".py",
   "mimetype": "text/x-python",
   "name": "python",
   "nbconvert_exporter": "python",
   "pygments_lexer": "ipython3",
   "version": "3.8.10"
  }
 },
 "nbformat": 4,
 "nbformat_minor": 5
}
