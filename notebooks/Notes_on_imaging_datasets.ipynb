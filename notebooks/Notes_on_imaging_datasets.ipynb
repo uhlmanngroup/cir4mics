{
 "cells": [
  {
   "cell_type": "markdown",
   "source": [
    "# Simulating photophysics\n",
    "## SMLM\n",
    "\n",
    "We use SMAP (Ries lab, https://www.nature.com/articles/s41592-020-0938-1) to simulate SMLM photophysics.\n",
    "A compiled version can be found here:  https://www.embl.de/download/ries/SMAPCompiled/\n",
    "Up to date source code: https://github.com/jries/SMAP\n",
    "Documentation: https://www.embl.de/download/ries/Documentation/SMAP_UserGuide.pdf\n",
    "The simulation engine can be found under ROIs/Segment/SimulateSites\n",
    "\n",
    "### Photophysics parameters\n",
    "Examples of photophysics parameters that aim to replicate a real-world experiment are in the Supplementary, table S8 and S9. Justifications for selected photophysics are annotated.\n",
    "\n",
    "### Pre-prepared datasets\n",
    "Pre-prepared datasets, e.g. Nup107 ground truth coordinates and photophysics can be found here:\n",
    "https://www.ebi.ac.uk/biostudies/studies/S-BSST1058\n",
    "\n",
    "### Further SMLM simulators (not tested, list not exhaustive)\n",
    "- SMIS https://doi.org/10.1038/s42003-023-04432-x\n",
    "- SuReSim 10.1038/nmeth.3775\n",
    "- TestSTORM 10.1038/s41598-017-01122-7\n",
    "- VirtualSMLM https://www.biorxiv.org/content/10.1101/2020.03.05.967893v1\n",
    "\n",
    "## Further Microscopy simulators (not tested, list not exhaustive)\n",
    "MicroVIP, for instance Structured Illumination Microscopy: 10.1016/j.softx.2021.100854\n",
    "Widefield: 10.1109/TMI.2007.896925\n",
    "Biobeam, Lightsheet microscopy: https://doi.org/10.1371/journal.pcbi.1006079\n",
    "ConfocalGN, Confocal microscopy http://dx.doi.org/10.1016/j.softx.2017.09.002\n"
   ],
   "metadata": {
    "collapsed": false
   }
  },
  {
   "cell_type": "code",
   "execution_count": null,
   "outputs": [],
   "source": [],
   "metadata": {
    "collapsed": false
   }
  }
 ],
 "metadata": {
  "kernelspec": {
   "display_name": "Python 3",
   "language": "python",
   "name": "python3"
  },
  "language_info": {
   "codemirror_mode": {
    "name": "ipython",
    "version": 2
   },
   "file_extension": ".py",
   "mimetype": "text/x-python",
   "name": "python",
   "nbconvert_exporter": "python",
   "pygments_lexer": "ipython2",
   "version": "2.7.6"
  }
 },
 "nbformat": 4,
 "nbformat_minor": 0
}
