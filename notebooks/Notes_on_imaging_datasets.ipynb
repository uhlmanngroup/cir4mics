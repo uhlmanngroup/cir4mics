{
 "cells": [
  {
   "cell_type": "markdown",
   "source": [
    "# Simulating photophysics\n",
    "## SMLM\n",
    "\n",
    "We use SMAP (Ries, 2020) to simulate SMLM photophysics.\n",
    "A compiled version can be found [here](https://www.embl.de/download/ries/SMAPCompiled/)\n",
    "Up to date source code on [Github](https://github.com/jries/SMAP)\n",
    "[Documentation](https://www.embl.de/download/ries/Documentation/SMAP_UserGuide.pdf)\n",
    "The simulation engine can be found under ROIs/Segment/SimulateSites, where a CSV file with ground truth coordinates can be loaded.\n",
    "\n",
    "Reference:\n",
    "Ries, J. SMAP: a modular super-resolution microscopy analysis platform for SMLM data. Nat Methods 17, 870–872 (2020). [link](https://doi.org/10.1038/s41592-020-0938-1)\n",
    "\n",
    "### Simulating photophysics parameters using SMAP\n",
    "Examples of photophysics parameters that aim to replicate a real-world experiment are in the Supplementary, Table S8 and S9. Justifications for selected photophysics are annotated. Parameters can be directly entered in SMAP under ROIs/Segment/SimulateSites\n",
    "\n",
    "### Pre-prepared datasets\n",
    "Pre-prepared datasets, e.g. Nup107 ground truth coordinates and photophysics can be found here:\n",
    "[Biostudies, accession number S-BSST1058](https://www.ebi.ac.uk/biostudies/studies/S-BSST1058)\n",
    "\n",
    "### Further SMLM simulators (not personally tested, list not exhaustive)\n",
    "#### SMIS\n",
    "Bourgeois, D. Single molecule imaging simulations with advanced fluorophore photophysics. Commun Biol 6, 53 (2023).\n",
    "[link](https://doi.org/10.1038/s42003-023-04432-x)\n",
    "#### SuReSim\n",
    "Venkataramani, V., Herrmannsdörfer, F., Heilemann, M. et al. SuReSim: simulating localization microscopy experiments from ground truth models. Nat Methods 13, 319–321 (2016).\n",
    "[link](https://www.nature.com/articles/nmeth.3775)\n",
    "DOI: 10.1038/nmeth.3775\n",
    "#### TestSTORM\n",
    "Novák, T., Gajdos, T., Sinkó, J. et al. TestSTORM: Versatile simulator software for multimodal super-resolution localization fluorescence microscopy. Sci Rep 7, 951 (2017). [link](https://doi.org/10.1038/s41598-017-01122-7)\n",
    "#### VirtualSMLM\n",
    "J. Griffié, T.A. Pham, C. Sieben, R. Lang, V. Cevher, S. Holden, M. Unser, S. Manley, D. Sage\n",
    "Virtual-SMLM, a virtual environment for real-time interactive SMLM acquisition\n",
    "bioRxiv 2020.03.05.967893\n",
    "[preprint](https://doi.org/10.1101/2020.03.05.967893 )\n",
    "\n",
    "## Further Microscopy simulators (not personally tested, list not exhaustive)\n",
    "#### Structured illumination microscopy (SIM)\n",
    "Not exclusively SIM: 10.1016/j.softx.2021.100854\n",
    "Ali Ahmad, Guillaume Vanel, Sorina Camarasu-Pop, Axel Bonnet, Carole Frindel, David Rousseau,\n",
    "MicroVIP: Microscopy image simulation on the Virtual Imaging Platform, SoftwareX, Volume 16, 2021,\n",
    "[link](https://www.sciencedirect.com/science/article/pii/S235271102100131X)\n",
    "\n",
    "See also:\n",
    "M. A. Boland, E, A. K. Cohen, S. R. Flaxman, M. A. A. Neil\n",
    "Improving axial resolution in Structured Illumination Microscopy using deep learning,\n",
    "Phil.Trans.R., 2021 [link](https://doi.org/10.1098/rsta.2020.0298)\n",
    "\n",
    "Gong H, Guo W, Neil MAA. GPU-accelerated real-time reconstruction in Python of three-dimensional datasets from structured illumination microscopy with hexagonal patterns. Philos Trans A Math Phys Eng Sci. 2021 10.1098/rsta.2020.0162 [link](https://doi.org/10.1098/rsta.2020.0162)\n",
    "\n",
    "#### Widefield\n",
    "10.1109/TMI.2007.896925\n",
    "A. Lehmussola, P. Ruusuvuori, J. Selinummi, H. Huttunen and O. Yli-Harja, \"Computational Framework for Simulating Fluorescence Microscope Images With Cell Populations,\" in IEEE Transactions on Medical Imaging, vol. 26, no. 7, pp. 1010-1016, July 2007, doi: 10.1109/TMI.2007.896925.\n",
    "[link](https://ieeexplore.ieee.org/document/4265752)\n",
    "#### Lightsheet microscopy\n",
    "Biobeam\n",
    "M. Weigert, K. Subramanian, S. T. Bundschuh, E. W. Myers, M. Kreysing\n",
    "PLOS, 2018 [link](https://doi.org/10.1371/journal.pcbi.1006079)\n",
    "#### Confocal microscopy\n",
    "ConfocalGN\n",
    "Serge Dmitrieff, François Nédélec,\n",
    "ConfocalGN: A minimalistic confocal image generator, SoftwareX, 2017,\n",
    "[link](http://dx.doi.org/10.1016/j.softx.2017.09.002)\n"
   ],
   "metadata": {
    "collapsed": false
   }
  },
  {
   "cell_type": "code",
   "execution_count": null,
   "outputs": [],
   "source": [],
   "metadata": {
    "collapsed": false
   }
  }
 ],
 "metadata": {
  "kernelspec": {
   "display_name": "Python 3",
   "language": "python",
   "name": "python3"
  },
  "language_info": {
   "codemirror_mode": {
    "name": "ipython",
    "version": 2
   },
   "file_extension": ".py",
   "mimetype": "text/x-python",
   "name": "python",
   "nbconvert_exporter": "python",
   "pygments_lexer": "ipython2",
   "version": "2.7.6"
  }
 },
 "nbformat": 4,
 "nbformat_minor": 0
}
